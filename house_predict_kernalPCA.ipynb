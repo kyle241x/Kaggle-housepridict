{
 "cells": [
  {
   "cell_type": "code",
   "execution_count": 1,
   "metadata": {},
   "outputs": [
    {
     "name": "stdout",
     "output_type": "stream",
     "text": [
      "0.30379771910921294\n"
     ]
    }
   ],
   "source": [
    "import pandas as pd\n",
    "from sklearn.model_selection import train_test_split\n",
    "from sklearn.neural_network import MLPRegressor\n",
    "from sklearn.decomposition import PCA\n",
    "\n",
    "data_train = pd.read_csv('train.csv')\n",
    "data_train.head()\n",
    "\n",
    "Y = pd.DataFrame(data_train['SalePrice'])\n",
    "X = data_train.iloc[:,:-1]\n",
    "X = X.apply(lambda x: pd.factorize(x)[0])\n",
    "X.fillna(value=X.mean(axis=0))\n",
    "X = X.values\n",
    "Y = Y.values\n",
    "\n",
    "pca = PCA(n_components=10)\n",
    "pca.fit(X)\n",
    "X_pca = pca.transform(X)\n",
    "\n",
    "X_train, X_test, y_train, y_test = train_test_split(X_pca, Y, test_size=0.1)\n",
    "y_train = y_train[:,0]\n",
    "y_test = y_test[:,0]\n",
    "\n",
    "regr = MLPRegressor(hidden_layer_sizes=(100,6),random_state=1, max_iter=15000).fit(X_train, y_train)\n",
    "print(regr.score(X_test, y_test))\n",
    "\n",
    "test = pd.read_csv('test.csv')"
   ]
  },
  {
   "cell_type": "code",
   "execution_count": null,
   "metadata": {},
   "outputs": [],
   "source": [
    "test = pd.read_csv('test.csv')\n",
    "test =\n",
    "result = clf.predict(test_X)\n"
   ]
  }
 ],
 "metadata": {
  "kernelspec": {
   "display_name": "Python 3",
   "language": "python",
   "name": "python3"
  },
  "language_info": {
   "codemirror_mode": {
    "name": "ipython",
    "version": 3
   },
   "file_extension": ".py",
   "mimetype": "text/x-python",
   "name": "python",
   "nbconvert_exporter": "python",
   "pygments_lexer": "ipython3",
   "version": "3.7.4"
  }
 },
 "nbformat": 4,
 "nbformat_minor": 4
}
